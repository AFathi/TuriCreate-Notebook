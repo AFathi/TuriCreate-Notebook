{
 "cells": [
  {
   "cell_type": "markdown",
   "metadata": {},
   "source": [
    "# Classify Images using Residual Network with 50 layers (ResNet-50)"
   ]
  },
  {
   "cell_type": "markdown",
   "metadata": {},
   "source": [
    "## Import Turi Create\n",
    "Please follow the repository README instructions to install the Turi Create package.\n",
    "\n",
    "**Note**: Turi Create is currently only compatible with Python 2.7"
   ]
  },
  {
   "cell_type": "code",
   "execution_count": null,
   "metadata": {
    "collapsed": true
   },
   "outputs": [],
   "source": [
    "import turicreate as turi"
   ]
  },
  {
   "cell_type": "code",
   "execution_count": null,
   "metadata": {},
   "outputs": [],
   "source": [
    "url = \"data/food_images\"\n",
    "data = turi.image_analysis.load_images(url, with_path=True)\n",
    "data['label'] = data['path'].apply(lambda path: 'Eggs' if 'eggs' in path else 'Soup')\n",
    "data.save('egg_or_soup.sframe')\n",
    "data.explore()"
   ]
  },
  {
   "cell_type": "code",
   "execution_count": null,
   "metadata": {},
   "outputs": [],
   "source": [
    "data = turi.SFrame(\"egg_or_soup.sframe\")\n",
    "train_data, test_data = data.random_split(0.8)\n",
    "\n",
    "model = turi.image_classifier.create(train_data, target=\"label\")\n",
    "predictions = model.predict(test_data)\n",
    "metrics = model.evaluate(test_data)\n",
    "print metrics[\"accuracy\"]\n",
    "\n",
    "model.save(\"egg_or_soup.model\")\n",
    "model.export_coreml(\"EggSoupClassifier.mlmodel\")"
   ]
  }
 ],
 "metadata": {
  "kernelspec": {
   "display_name": "Python 3",
   "language": "python",
   "name": "python3"
  },
  "language_info": {
   "codemirror_mode": {
    "name": "ipython",
    "version": 2
   },
   "file_extension": ".py",
   "mimetype": "text/x-python",
   "name": "python",
   "nbconvert_exporter": "python",
   "pygments_lexer": "ipython2",
   "version": "2.7.14"
  }
 },
 "nbformat": 4,
 "nbformat_minor": 2
}
