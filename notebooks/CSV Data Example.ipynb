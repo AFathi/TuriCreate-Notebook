{
 "cells": [
  {
   "cell_type": "markdown",
   "metadata": {},
   "source": [
    "# Reading Sample CSV Data"
   ]
  },
  {
   "cell_type": "markdown",
   "metadata": {},
   "source": [
    "## Import Turi Create\n",
    "Please follow the repository README instructions to install the Turi Create package.\n",
    "\n",
    "**Note**: Turi Create is currently only compatible with Python 2.7"
   ]
  },
  {
   "cell_type": "code",
   "execution_count": 12,
   "metadata": {},
   "outputs": [],
   "source": [
    "import turicreate as turi"
   ]
  },
  {
   "cell_type": "markdown",
   "metadata": {},
   "source": [
    "## Create an SFrame object\n",
    "An [`SFrame`](https://apple.github.io/turicreate/docs/api/generated/turicreate.SFrame.html) is an object that can handle and load large data. `SFrame` is essentially an ordered dictionary of multiple [`SArray`](https://apple.github.io/turicreate/docs/api/generated/turicreate.SArray.html#turicreate.SArray) objects. \n",
    "\n",
    "Each column in the `SFrame` is an `SArray` object."
   ]
  },
  {
   "cell_type": "code",
   "execution_count": 13,
   "metadata": {
    "scrolled": true
   },
   "outputs": [
    {
     "data": {
      "text/html": [
       "<pre>Finished parsing file /Users/ahmedbekhit/Documents/Data/Development/TuriCreate/repo/turicreate-notebook/notebooks/data/SampleCSVFile_119kb.csv</pre>"
      ],
      "text/plain": [
       "Finished parsing file /Users/ahmedbekhit/Documents/Data/Development/TuriCreate/repo/turicreate-notebook/notebooks/data/SampleCSVFile_119kb.csv"
      ]
     },
     "metadata": {},
     "output_type": "display_data"
    },
    {
     "data": {
      "text/html": [
       "<pre>Parsing completed. Parsed 100 lines in 0.010888 secs.</pre>"
      ],
      "text/plain": [
       "Parsing completed. Parsed 100 lines in 0.010888 secs."
      ]
     },
     "metadata": {},
     "output_type": "display_data"
    },
    {
     "name": "stdout",
     "output_type": "stream",
     "text": [
      "------------------------------------------------------\n",
      "Inferred types from first 100 line(s) of file as \n",
      "column_type_hints=[int,str,str,int,float,float,float,str,str,float]\n",
      "If parsing fails due to incorrect types, you can correct\n",
      "the inferred type list above and pass it to read_csv in\n",
      "the column_type_hints argument\n",
      "------------------------------------------------------\n"
     ]
    },
    {
     "data": {
      "text/html": [
       "<pre>Finished parsing file /Users/ahmedbekhit/Documents/Data/Development/TuriCreate/repo/turicreate-notebook/notebooks/data/SampleCSVFile_119kb.csv</pre>"
      ],
      "text/plain": [
       "Finished parsing file /Users/ahmedbekhit/Documents/Data/Development/TuriCreate/repo/turicreate-notebook/notebooks/data/SampleCSVFile_119kb.csv"
      ]
     },
     "metadata": {},
     "output_type": "display_data"
    },
    {
     "data": {
      "text/html": [
       "<pre>Parsing completed. Parsed 999 lines in 0.013137 secs.</pre>"
      ],
      "text/plain": [
       "Parsing completed. Parsed 999 lines in 0.013137 secs."
      ]
     },
     "metadata": {},
     "output_type": "display_data"
    }
   ],
   "source": [
    "dataBuffer = turi.SFrame.read_csv('data/SampleCSVFile_119kb.csv')"
   ]
  },
  {
   "cell_type": "markdown",
   "metadata": {},
   "source": [
    "## Load the first 5 rows of the SFrame\n",
    "The head method loads a specific number of rows, counting from 0. \n",
    "\n",
    "`head(n)` returns the first **n+1** rows. "
   ]
  },
  {
   "cell_type": "code",
   "execution_count": 11,
   "metadata": {},
   "outputs": [
    {
     "data": {
      "text/html": [
       "<div style=\"max-height:1000px;max-width:1500px;overflow:auto;\"><table frame=\"box\" rules=\"cols\">\n",
       "    <tr>\n",
       "        <th style=\"padding-left: 1em; padding-right: 1em; text-align: center\">1</th>\n",
       "        <th style=\"padding-left: 1em; padding-right: 1em; text-align: center\">Eldon Base for stackable<br>storage shelf, platinum ...</th>\n",
       "        <th style=\"padding-left: 1em; padding-right: 1em; text-align: center\">Muhammed MacIntyre</th>\n",
       "        <th style=\"padding-left: 1em; padding-right: 1em; text-align: center\">3</th>\n",
       "        <th style=\"padding-left: 1em; padding-right: 1em; text-align: center\">-213.25</th>\n",
       "        <th style=\"padding-left: 1em; padding-right: 1em; text-align: center\">38.94</th>\n",
       "        <th style=\"padding-left: 1em; padding-right: 1em; text-align: center\">35</th>\n",
       "        <th style=\"padding-left: 1em; padding-right: 1em; text-align: center\">Nunavut</th>\n",
       "    </tr>\n",
       "    <tr>\n",
       "        <td style=\"padding-left: 1em; padding-right: 1em; text-align: center; vertical-align: top\">2</td>\n",
       "        <td style=\"padding-left: 1em; padding-right: 1em; text-align: center; vertical-align: top\">1.7 Cubic Foot Compact<br>\"Cube\" Office ...</td>\n",
       "        <td style=\"padding-left: 1em; padding-right: 1em; text-align: center; vertical-align: top\">Barry French</td>\n",
       "        <td style=\"padding-left: 1em; padding-right: 1em; text-align: center; vertical-align: top\">293</td>\n",
       "        <td style=\"padding-left: 1em; padding-right: 1em; text-align: center; vertical-align: top\">457.81</td>\n",
       "        <td style=\"padding-left: 1em; padding-right: 1em; text-align: center; vertical-align: top\">208.16</td>\n",
       "        <td style=\"padding-left: 1em; padding-right: 1em; text-align: center; vertical-align: top\">68.02</td>\n",
       "        <td style=\"padding-left: 1em; padding-right: 1em; text-align: center; vertical-align: top\">Nunavut</td>\n",
       "    </tr>\n",
       "    <tr>\n",
       "        <td style=\"padding-left: 1em; padding-right: 1em; text-align: center; vertical-align: top\">3</td>\n",
       "        <td style=\"padding-left: 1em; padding-right: 1em; text-align: center; vertical-align: top\">Cardinal Slant-D� Ring<br>Binder, Heavy Gauge V ...</td>\n",
       "        <td style=\"padding-left: 1em; padding-right: 1em; text-align: center; vertical-align: top\">Barry French</td>\n",
       "        <td style=\"padding-left: 1em; padding-right: 1em; text-align: center; vertical-align: top\">293</td>\n",
       "        <td style=\"padding-left: 1em; padding-right: 1em; text-align: center; vertical-align: top\">46.71</td>\n",
       "        <td style=\"padding-left: 1em; padding-right: 1em; text-align: center; vertical-align: top\">8.69</td>\n",
       "        <td style=\"padding-left: 1em; padding-right: 1em; text-align: center; vertical-align: top\">2.99</td>\n",
       "        <td style=\"padding-left: 1em; padding-right: 1em; text-align: center; vertical-align: top\">Nunavut</td>\n",
       "    </tr>\n",
       "    <tr>\n",
       "        <td style=\"padding-left: 1em; padding-right: 1em; text-align: center; vertical-align: top\">4</td>\n",
       "        <td style=\"padding-left: 1em; padding-right: 1em; text-align: center; vertical-align: top\">R380</td>\n",
       "        <td style=\"padding-left: 1em; padding-right: 1em; text-align: center; vertical-align: top\">Clay Rozendal</td>\n",
       "        <td style=\"padding-left: 1em; padding-right: 1em; text-align: center; vertical-align: top\">483</td>\n",
       "        <td style=\"padding-left: 1em; padding-right: 1em; text-align: center; vertical-align: top\">1198.97</td>\n",
       "        <td style=\"padding-left: 1em; padding-right: 1em; text-align: center; vertical-align: top\">195.99</td>\n",
       "        <td style=\"padding-left: 1em; padding-right: 1em; text-align: center; vertical-align: top\">3.99</td>\n",
       "        <td style=\"padding-left: 1em; padding-right: 1em; text-align: center; vertical-align: top\">Nunavut</td>\n",
       "    </tr>\n",
       "    <tr>\n",
       "        <td style=\"padding-left: 1em; padding-right: 1em; text-align: center; vertical-align: top\">5</td>\n",
       "        <td style=\"padding-left: 1em; padding-right: 1em; text-align: center; vertical-align: top\">Holmes HEPA Air Purifier</td>\n",
       "        <td style=\"padding-left: 1em; padding-right: 1em; text-align: center; vertical-align: top\">Carlos Soltero</td>\n",
       "        <td style=\"padding-left: 1em; padding-right: 1em; text-align: center; vertical-align: top\">515</td>\n",
       "        <td style=\"padding-left: 1em; padding-right: 1em; text-align: center; vertical-align: top\">30.94</td>\n",
       "        <td style=\"padding-left: 1em; padding-right: 1em; text-align: center; vertical-align: top\">21.78</td>\n",
       "        <td style=\"padding-left: 1em; padding-right: 1em; text-align: center; vertical-align: top\">5.94</td>\n",
       "        <td style=\"padding-left: 1em; padding-right: 1em; text-align: center; vertical-align: top\">Nunavut</td>\n",
       "    </tr>\n",
       "</table>\n",
       "<table frame=\"box\" rules=\"cols\">\n",
       "    <tr>\n",
       "        <th style=\"padding-left: 1em; padding-right: 1em; text-align: center\">Storage &amp; Organization</th>\n",
       "        <th style=\"padding-left: 1em; padding-right: 1em; text-align: center\">0.8</th>\n",
       "    </tr>\n",
       "    <tr>\n",
       "        <td style=\"padding-left: 1em; padding-right: 1em; text-align: center; vertical-align: top\">Appliances</td>\n",
       "        <td style=\"padding-left: 1em; padding-right: 1em; text-align: center; vertical-align: top\">0.58</td>\n",
       "    </tr>\n",
       "    <tr>\n",
       "        <td style=\"padding-left: 1em; padding-right: 1em; text-align: center; vertical-align: top\">Binders and Binder<br>Accessories ...</td>\n",
       "        <td style=\"padding-left: 1em; padding-right: 1em; text-align: center; vertical-align: top\">0.39</td>\n",
       "    </tr>\n",
       "    <tr>\n",
       "        <td style=\"padding-left: 1em; padding-right: 1em; text-align: center; vertical-align: top\">Telephones and<br>Communication ...</td>\n",
       "        <td style=\"padding-left: 1em; padding-right: 1em; text-align: center; vertical-align: top\">0.58</td>\n",
       "    </tr>\n",
       "    <tr>\n",
       "        <td style=\"padding-left: 1em; padding-right: 1em; text-align: center; vertical-align: top\">Appliances</td>\n",
       "        <td style=\"padding-left: 1em; padding-right: 1em; text-align: center; vertical-align: top\">0.5</td>\n",
       "    </tr>\n",
       "</table>\n",
       "[4 rows x 10 columns]<br/>\n",
       "</div>"
      ],
      "text/plain": [
       "Columns:\n",
       "\t1\tint\n",
       "\tEldon Base for stackable storage shelf, platinum\tstr\n",
       "\tMuhammed MacIntyre\tstr\n",
       "\t3\tint\n",
       "\t-213.25\tfloat\n",
       "\t38.94\tfloat\n",
       "\t35\tfloat\n",
       "\tNunavut\tstr\n",
       "\tStorage & Organization\tstr\n",
       "\t0.8\tfloat\n",
       "\n",
       "Rows: 4\n",
       "\n",
       "Data:\n",
       "+---+-------------------------------+--------------------+-----+---------+\n",
       "| 1 | Eldon Base for stackable s... | Muhammed MacIntyre |  3  | -213.25 |\n",
       "+---+-------------------------------+--------------------+-----+---------+\n",
       "| 2 | 1.7 Cubic Foot Compact \"Cu... |    Barry French    | 293 |  457.81 |\n",
       "| 3 | Cardinal Slant-D� Ring Bin... |    Barry French    | 293 |  46.71  |\n",
       "| 4 |              R380             |   Clay Rozendal    | 483 | 1198.97 |\n",
       "| 5 |    Holmes HEPA Air Purifier   |   Carlos Soltero   | 515 |  30.94  |\n",
       "+---+-------------------------------+--------------------+-----+---------+\n",
       "+--------+-------+---------+--------------------------------+------+\n",
       "| 38.94  |   35  | Nunavut |     Storage & Organization     | 0.8  |\n",
       "+--------+-------+---------+--------------------------------+------+\n",
       "| 208.16 | 68.02 | Nunavut |           Appliances           | 0.58 |\n",
       "|  8.69  |  2.99 | Nunavut | Binders and Binder Accessories | 0.39 |\n",
       "| 195.99 |  3.99 | Nunavut |  Telephones and Communication  | 0.58 |\n",
       "| 21.78  |  5.94 | Nunavut |           Appliances           | 0.5  |\n",
       "+--------+-------+---------+--------------------------------+------+\n",
       "[4 rows x 10 columns]"
      ]
     },
     "execution_count": 11,
     "metadata": {},
     "output_type": "execute_result"
    }
   ],
   "source": [
    "dataBuffer.head(4)"
   ]
  },
  {
   "cell_type": "code",
   "execution_count": null,
   "metadata": {},
   "outputs": [],
   "source": []
  }
 ],
 "metadata": {
  "kernelspec": {
   "display_name": "Python 3",
   "language": "python",
   "name": "python3"
  },
  "language_info": {
   "codemirror_mode": {
    "name": "ipython",
    "version": 2
   },
   "file_extension": ".py",
   "mimetype": "text/x-python",
   "name": "python",
   "nbconvert_exporter": "python",
   "pygments_lexer": "ipython2",
   "version": "2.7.14"
  }
 },
 "nbformat": 4,
 "nbformat_minor": 2
}
