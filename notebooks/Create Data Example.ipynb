{
 "cells": [
  {
   "cell_type": "markdown",
   "metadata": {},
   "source": [
    "# Create a Simple SFrame Manually"
   ]
  },
  {
   "cell_type": "markdown",
   "metadata": {},
   "source": [
    "## Import Turi Create\n",
    "Please follow the repository README instructions to install the Turi Create package.\n",
    "\n",
    "**Note**: Turi Create is currently only compatible with Python 2.7"
   ]
  },
  {
   "cell_type": "code",
   "execution_count": 1,
   "metadata": {},
   "outputs": [],
   "source": [
    "import turicreate as turi"
   ]
  },
  {
   "cell_type": "markdown",
   "metadata": {},
   "source": [
    "## Create an SFrame object\n",
    "An [`SFrame`](https://apple.github.io/turicreate/docs/api/generated/turicreate.SFrame.html) is an object that can handle and load large data. `SFrame` is essentially an ordered dictionary of multiple [`SArray`](https://apple.github.io/turicreate/docs/api/generated/turicreate.SArray.html#turicreate.SArray) objects. \n",
    "\n",
    "Each column in the `SFrame` is an `SArray` object.\n",
    "\n",
    "In the following `SFrame` object, we have created a data buffer (dataset) that specifies the size of each pet's eyes, nose, and head.\n",
    "\n",
    "Each number in the dataset is a ratio from 15cm.\n",
    "\n",
    "**Note**: The ratios in the dataset are NOT accurate or related to reality. Those are random ratios used for demonstration purposes."
   ]
  },
  {
   "cell_type": "code",
   "execution_count": 3,
   "metadata": {},
   "outputs": [
    {
     "name": "stdout",
     "output_type": "stream",
     "text": [
      "+------+------+------+-----------+\n",
      "| eyes | head | nose | pet_types |\n",
      "+------+------+------+-----------+\n",
      "| 0.23 | 0.34 | 0.11 |    cat    |\n",
      "| 0.64 | 0.47 | 0.68 |    dog    |\n",
      "| 0.89 | 0.66 | 0.78 |    wolf   |\n",
      "| 0.26 | 0.37 | 0.08 |    cat    |\n",
      "| 0.93 | 0.68 | 0.74 |    wolf   |\n",
      "| 0.66 | 0.45 | 0.57 |    dog    |\n",
      "+------+------+------+-----------+\n",
      "[6 rows x 4 columns]\n",
      "\n"
     ]
    }
   ],
   "source": [
    "dataBuffer = turi.SFrame({\n",
    "    \"pet_types\": [\"cat\", \"dog\", \"wolf\", \"cat\", \"wolf\", \"dog\"],\n",
    "    \"eyes\":      [0.23,  0.64,  0.89,   0.26,  0.93,   0.66 ],\n",
    "    \"nose\":      [0.11,  0.68,  0.78,   0.08,  0.74,   0.57 ],\n",
    "    \"head\":      [0.34,  0.47,  0.66,   0.37,  0.68,   0.45 ]\n",
    "})\n",
    "print dataBuffer"
   ]
  }
 ],
 "metadata": {
  "kernelspec": {
   "display_name": "Python 3",
   "language": "python",
   "name": "python3"
  },
  "language_info": {
   "codemirror_mode": {
    "name": "ipython",
    "version": 2
   },
   "file_extension": ".py",
   "mimetype": "text/x-python",
   "name": "python",
   "nbconvert_exporter": "python",
   "pygments_lexer": "ipython2",
   "version": "2.7.14"
  }
 },
 "nbformat": 4,
 "nbformat_minor": 2
}
